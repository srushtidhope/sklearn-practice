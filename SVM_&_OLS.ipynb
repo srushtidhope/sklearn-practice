{
  "nbformat": 4,
  "nbformat_minor": 0,
  "metadata": {
    "colab": {
      "name": "SVM & OLS.ipynb",
      "version": "0.3.2",
      "provenance": [],
      "collapsed_sections": []
    },
    "kernelspec": {
      "name": "python3",
      "display_name": "Python 3"
    }
  },
  "cells": [
    {
      "metadata": {
        "id": "twq59ePw8dXb",
        "colab_type": "code",
        "outputId": "c321daee-c29d-4a64-83ae-c1348263ea23",
        "colab": {
          "base_uri": "https://localhost:8080/",
          "height": 68
        }
      },
      "cell_type": "code",
      "source": [
        "!pip install -U scikit-learn"
      ],
      "execution_count": 0,
      "outputs": [
        {
          "output_type": "stream",
          "text": [
            "Requirement already up-to-date: scikit-learn in /usr/local/lib/python3.6/dist-packages (0.20.3)\n",
            "Requirement already satisfied, skipping upgrade: scipy>=0.13.3 in /usr/local/lib/python3.6/dist-packages (from scikit-learn) (1.2.1)\n",
            "Requirement already satisfied, skipping upgrade: numpy>=1.8.2 in /usr/local/lib/python3.6/dist-packages (from scikit-learn) (1.16.2)\n"
          ],
          "name": "stdout"
        }
      ]
    },
    {
      "metadata": {
        "id": "82bty4HP8qhI",
        "colab_type": "code",
        "outputId": "cbff566c-598f-4906-b4f7-833591c512a5",
        "colab": {
          "base_uri": "https://localhost:8080/",
          "height": 51
        }
      },
      "cell_type": "code",
      "source": [
        "# Code for SVM\n",
        "# 2-feature data given, class randomly generated\n",
        "\n",
        "print(__doc__)\n",
        "\n",
        "import numpy as np\n",
        "import pandas as pd\n",
        "import matplotlib.pyplot as plt\n",
        "from sklearn import svm\n",
        "from sklearn.model_selection import train_test_split\n",
        "from random import randint\n",
        "\n",
        "# Read data from csv file\n",
        "data = pd.read_csv('puzzle.csv')\n",
        "n_row, n_col = data.shape\n",
        "data_y = [randint(1, 4) for i in range(n_row)]\n",
        "x_train, x_test, y_train, y_test = train_test_split(data, data_y, test_size=0.4, random_state=0)\n",
        "\n",
        "clf = svm.SVC(kernel='linear', C=1).fit(x_train, y_train)\n",
        "clf.score(x_test, y_test)"
      ],
      "execution_count": 11,
      "outputs": [
        {
          "output_type": "stream",
          "text": [
            "Automatically created module for IPython interactive environment\n"
          ],
          "name": "stdout"
        },
        {
          "output_type": "execute_result",
          "data": {
            "text/plain": [
              "0.22926829268292684"
            ]
          },
          "metadata": {
            "tags": []
          },
          "execution_count": 11
        }
      ]
    },
    {
      "metadata": {
        "id": "aaQI3SwCAr0M",
        "colab_type": "code",
        "outputId": "aa278172-26c2-4e26-ae02-1e124ca00050",
        "colab": {
          "base_uri": "https://localhost:8080/",
          "height": 85
        }
      },
      "cell_type": "code",
      "source": [
        "# Code for OLS\n",
        "\n",
        "print(__doc__)\n",
        "\n",
        "import numpy as np\n",
        "import pandas as pd\n",
        "import matplotlib.pyplot as plt\n",
        "from sklearn import linear_model\n",
        "from sklearn.metrics import mean_squared_error, r2_score\n",
        "from sklearn.model_selection import train_test_split\n",
        "\n",
        "# Read data from csv file\n",
        "data = pd.read_csv('puzzle.csv')\n",
        "data.columns = ['x','y']\n",
        "data_x = data.x[:,np.newaxis]\n",
        "data_y = data.y[:,np.newaxis]\n",
        "x_train, x_test, y_train, y_test = train_test_split(data_x, data_y, test_size=0.4, random_state=0)\n",
        "\n",
        "reg = linear_model.LinearRegression()\n",
        "reg.fit(x_train,y_train)\n",
        "y_pred = reg.predict(x_test)\n",
        "print(reg.coef_)\n",
        "print(mean_squared_error(y_test,y_pred))\n",
        "print(r2_score(y_test,y_pred))"
      ],
      "execution_count": 14,
      "outputs": [
        {
          "output_type": "stream",
          "text": [
            "Automatically created module for IPython interactive environment\n",
            "[[-1.20283167]]\n",
            "2.15489920656958\n",
            "0.03535601909281094\n"
          ],
          "name": "stdout"
        }
      ]
    }
  ]
}