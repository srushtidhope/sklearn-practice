{
  "nbformat": 4,
  "nbformat_minor": 0,
  "metadata": {
    "colab": {
      "name": "Classification.ipynb",
      "version": "0.3.2",
      "provenance": [],
      "collapsed_sections": []
    },
    "kernelspec": {
      "name": "python3",
      "display_name": "Python 3"
    }
  },
  "cells": [
    {
      "metadata": {
        "id": "oy7_xdoZXWhW",
        "colab_type": "code",
        "outputId": "27ae1b5f-06c8-42f7-dd0f-a62e83a8b50f",
        "colab": {
          "base_uri": "https://localhost:8080/",
          "height": 68
        }
      },
      "cell_type": "code",
      "source": [
        "!pip install -U scikit-learn"
      ],
      "execution_count": 1,
      "outputs": [
        {
          "output_type": "stream",
          "text": [
            "Requirement already up-to-date: scikit-learn in /usr/local/lib/python3.6/dist-packages (0.20.3)\n",
            "Requirement already satisfied, skipping upgrade: numpy>=1.8.2 in /usr/local/lib/python3.6/dist-packages (from scikit-learn) (1.16.3)\n",
            "Requirement already satisfied, skipping upgrade: scipy>=0.13.3 in /usr/local/lib/python3.6/dist-packages (from scikit-learn) (1.2.1)\n"
          ],
          "name": "stdout"
        }
      ]
    },
    {
      "metadata": {
        "id": "ynoe7iASXgJx",
        "colab_type": "code",
        "outputId": "7ae81db2-93e4-43ae-b796-c639e0fa6760",
        "colab": {
          "base_uri": "https://localhost:8080/",
          "height": 357
        }
      },
      "cell_type": "code",
      "source": [
        "# Code to predict class using different classifiers\n",
        "# Also, tuning parameters using gridsearch and pipeline\n",
        "\n",
        "from sklearn import datasets\n",
        "from sklearn.model_selection import train_test_split\n",
        "from sklearn.decomposition import PCA\n",
        "from sklearn.svm import SVC\n",
        "from sklearn.naive_bayes import GaussianNB\n",
        "from sklearn.neural_network import MLPClassifier\n",
        "from sklearn.ensemble import RandomForestClassifier\n",
        "from sklearn.metrics import precision_score, recall_score, f1_score\n",
        "from sklearn.model_selection import GridSearchCV\n",
        "from sklearn.pipeline import make_pipeline\n",
        "\n",
        "import warnings\n",
        "\n",
        "wine = datasets.load_wine()\n",
        "X = wine.data\n",
        "y = wine.target\n",
        "_, n_features = X.shape\n",
        "\n",
        "# Splitting data into train and test sets\n",
        "X_train, X_test, y_train, y_test = train_test_split(X, y, test_size = 0.3)\n",
        "\n",
        "# Specifying classifiers and their parameters for grid search\n",
        "classifiers = [GaussianNB(), SVC(), RandomForestClassifier(), MLPClassifier()]\n",
        "classifier_params = [{}, {'svc__C': [1e3, 5e3, 1e4, 5e4, 1e5], 'svc__gamma': [0.0001, 0.0005, 0.001, 0.005, 0.01, 0.1]}, {'randomforestclassifier__max_features': ['auto', 'sqrt', 'log2']}, {'mlpclassifier__hidden_layer_sizes': [(50,), (25,25), (10,10)], 'mlpclassifier__activation' : ['identity', 'logistic', 'tanh', 'relu']}]\n",
        "               \n",
        "for classifier, classifier_params in zip(classifiers, classifier_params):\n",
        "\n",
        "  # Predicting class on data as is, using classifier directly\n",
        "  clf = classifier\n",
        "  clf.fit(X_train, y_train)\n",
        "  y_pred = clf.predict(X_test)\n",
        "  \n",
        "  # Grid search for dimensionality reduction followed by class prediction\n",
        "  params = {'pca__n_components': range(1,n_features+1)}\n",
        "  params.update(classifier_params)\n",
        "  pipe = make_pipeline(PCA(), classifier)\n",
        "  clf_pipe = GridSearchCV(pipe, params, cv=5)\n",
        "  clf_pipe.fit(X_train, y_train)\n",
        "  y_pred_pipe = clf_pipe.predict(X_test)\n",
        "  \n",
        "  # Print classification accuracy results\n",
        "  print(pipe.steps[1][0].upper(), ':', clf_pipe.best_params_)\n",
        "  print(\"\\nPrecision: %1.3f \\tRecall: %1.3f \\t\\tF1: %1.3f\" % (precision_score(y_test, y_pred, average='macro'), recall_score(y_test, y_pred, average='macro'), f1_score(y_test, y_pred, average='macro')))\n",
        "  print(\"Precision: %1.3f \\tRecall: %1.3f \\t\\tF1: %1.3f\\n\" % (precision_score(y_test, y_pred_pipe, average='macro'), recall_score(y_test, y_pred_pipe, average='macro'), f1_score(y_test, y_pred_pipe, average='macro')))\n",
        "  \n",
        "warnings.filterwarnings(\"ignore\")"
      ],
      "execution_count": 5,
      "outputs": [
        {
          "output_type": "stream",
          "text": [
            "GAUSSIANNB : {'pca__n_components': 7}\n",
            "\n",
            "Precision: 0.980 \tRecall: 0.985 \t\tF1: 0.982\n",
            "Precision: 0.963 \tRecall: 0.964 \t\tF1: 0.962\n",
            "\n",
            "SVC : {'pca__n_components': 7, 'svc__C': 1000.0, 'svc__gamma': 0.0001}\n",
            "\n",
            "Precision: 0.769 \tRecall: 0.369 \t\tF1: 0.225\n",
            "Precision: 0.900 \tRecall: 0.902 \t\tF1: 0.900\n",
            "\n",
            "RANDOMFORESTCLASSIFIER : {'pca__n_components': 12, 'randomforestclassifier__max_features': 'auto'}\n",
            "\n",
            "Precision: 0.964 \tRecall: 0.964 \t\tF1: 0.964\n",
            "Precision: 0.917 \tRecall: 0.907 \t\tF1: 0.905\n",
            "\n",
            "MLPCLASSIFIER : {'mlpclassifier__activation': 'tanh', 'mlpclassifier__hidden_layer_sizes': (50,), 'pca__n_components': 13}\n",
            "\n",
            "Precision: 0.947 \tRecall: 0.949 \t\tF1: 0.945\n",
            "Precision: 0.965 \tRecall: 0.958 \t\tF1: 0.961\n",
            "\n"
          ],
          "name": "stdout"
        }
      ]
    }
  ]
}